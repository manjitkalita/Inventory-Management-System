{
 "cells": [
  {
   "cell_type": "code",
   "execution_count": 10,
   "id": "bd1a5c89",
   "metadata": {},
   "outputs": [],
   "source": [
    "import json\n",
    "import time"
   ]
  },
  {
   "cell_type": "code",
   "execution_count": 11,
   "id": "3ef60577",
   "metadata": {},
   "outputs": [],
   "source": [
    "sale = ''"
   ]
  },
  {
   "cell_type": "code",
   "execution_count": 12,
   "id": "386a309a",
   "metadata": {},
   "outputs": [],
   "source": [
    "fd = open('Record.json','r')\n",
    "js = fd.read()\n",
    "fd.close()\n",
    "record = json.loads(js)"
   ]
  },
  {
   "cell_type": "code",
   "execution_count": 13,
   "id": "0d8a7f0b",
   "metadata": {},
   "outputs": [
    {
     "name": "stdout",
     "output_type": "stream",
     "text": [
      "-----------------------MENU----------------------\n",
      "1001 : 5 star | 10 | 200\n",
      "1002 : Bar-One | 20 | 100\n",
      "1003 : Candy | 2 | 1000\n",
      "1004 : Chocolate Cake | 550 | 10\n",
      "1005 : Blueberry Cake | 650 | 15\n",
      "-------------------------------------------------\n",
      "Enter your name    : Manjit Kalita\n",
      "Enter your mail id : mn@mail.com\n",
      "Enter phone number   : 6004758485\n",
      "Enter Product ID     : 1001\n",
      "Enter Quantity       : 200\n",
      "-------------------------------------------------\n",
      "                       Bill                      \n",
      "Name            :  5 star\n",
      "Price.          :  Rs  10\n",
      "Quantity        :  200\n",
      "-------------------------------------------------\n",
      "Billing         :  Rs  2000\n",
      "Hurrah! You are elligible for 10% discount.\n",
      "-------------------------------------------------\n",
      "Payable amount  :  Rs  1800.0\n",
      "-------------------------------------------------\n",
      "-----------------------------------------------------\n",
      "Thanks for your order. Invetory updated\n",
      "-----------------------------------------------------\n"
     ]
    }
   ],
   "source": [
    "print(\"-----------------------MENU----------------------\")\n",
    "for key in record.keys():\n",
    "    print(key,':',record[key]['Name'],\"|\",record[key]['Price'],\"|\",record[key]['Qn'])\n",
    "print(\"-------------------------------------------------\")\n",
    "\n",
    "ui_name = str(input(\"Enter your name    : \"))\n",
    "ui_mail = str(input(\"Enter your mail id : \"))\n",
    "ui_ph = str(input(\"Enter phone number   : \"))\n",
    "ui_pr = str(input(\"Enter Product ID     : \"))\n",
    "ui_qn = int(input(\"Enter Quantity       : \"))\n",
    "\n",
    "if(record[ui_pr]['Qn']>=ui_qn):\n",
    "    record[ui_pr]['Qn'] = record[ui_pr]['Qn']-ui_qn\n",
    "    print(\"-------------------------------------------------\")\n",
    "    print(\"                       Bill                      \")\n",
    "    print(\"Name            : \",record[ui_pr]['Name'])\n",
    "    print(\"Price.          : \",\"Rs \",record[ui_pr]['Price'])\n",
    "    print(\"Quantity        : \",ui_qn)\n",
    "\n",
    "    print(\"-------------------------------------------------\")\n",
    "    print(\"Billing         : \",\"Rs \",record[ui_pr]['Price']*ui_qn)\n",
    "    if ((record[ui_pr]['Price']*ui_qn)>=2000 and (record[ui_pr]['Price']*ui_qn)<=4999):\n",
    "        print(\"Hurrah! You are elligible for 10% discount.\")\n",
    "        totalBill = record[ui_pr]['Price']*ui_qn - (((record[ui_pr]['Price']*ui_qn)/100)*10)\n",
    "    elif((record[ui_pr]['Price']*ui_qn)>=5000):\n",
    "        print(\"Hurrah! You are elligible for 25% discount.\")\n",
    "        totalBill = record[ui_pr]['Price']*ui_qn - (((record[ui_pr]['Price']*ui_qn)/100)*25)\n",
    "    print(\"-------------------------------------------------\")\n",
    "    print(\"Payable amount  : \",\"Rs \",totalBill)\n",
    "    print(\"-------------------------------------------------\")\n",
    "    \n",
    "    sale = ui_name + ',' +ui_mail+','+ui_ph+','+ui_pr+','+record[ui_pr]['Name']+','+str(ui_qn)+','+str(record[ui_pr]['Price'])+','+str(totalBill)+','+time.ctime()+'\\n'\n",
    "\n",
    "else:\n",
    "    print(\"Sorry, we're not having enough quantity in our inventory.\")\n",
    "    print(\"We're having \", record[ui_pr]['Qn'], \"quantity only.\")\n",
    "    print(\"-------------------------------------------------\")\n",
    "    \n",
    "    ch = str(input(\"Press y/Y to continue with the available quanity: \"))\n",
    "    \n",
    "    if (ch == \"Y\" or ch == 'y'):\n",
    "        print(\"-------------------------------------------------\")\n",
    "        print(\"                       Bill                      \")\n",
    "        print(\"Name            : \",record[ui_pr]['Name'])\n",
    "        print(\"Price.          : \",\"Rs \",record[ui_pr]['Price'])\n",
    "        print(\"Quantity        : \",record[ui_pr]['Qn'])\n",
    "\n",
    "        print(\"-------------------------------------------------\")\n",
    "        print(\"Billing         : \",\"Rs \",record[ui_pr]['Price']*record[ui_pr]['Qn'])\n",
    "        if ((record[ui_pr]['Price']*ui_qn)>=2000 and (record[ui_pr]['Price']*ui_qn)<=4999):\n",
    "            print(\"Hurrah! You are elligible for 10% discount.\")\n",
    "            totalBill = record[ui_pr]['Price']*ui_qn - (((record[ui_pr]['Price']*ui_qn)/100)*10)\n",
    "        elif ((record[ui_pr]['Price']*ui_qn)>=5000):\n",
    "            print(\"Hurrah! You are elligible for 25% discount.\")\n",
    "            totalBill = record[ui_pr]['Price']*ui_qn - (((record[ui_pr]['Price']*ui_qn)/100)*25)\n",
    "        print(\"-------------------------------------------------\")\n",
    "        print(\"Payable amount  : \",\"Rs \",totalBill)\n",
    "        print(\"-------------------------------------------------\")\n",
    "    \n",
    "        sale = ui_name + ',' +ui_mail+','+ui_ph+','+ui_pr+','+record[ui_pr]['Name']+','+str(record[ui_pr]['Qn'])+','+str(record[ui_pr]['Price'])+','+str(totalBill)+','+time.ctime()+'\\n'\n",
    "    else:\n",
    "        print(\"Thank you\")\n",
    "        \n",
    "\n",
    "js = json.dumps(record)\n",
    "fd = open(\"Record.json\",'w')\n",
    "fd.write(js)\n",
    "fd.close()\n",
    "\n",
    "fd = open('Sales.txt','a')\n",
    "fd.write(sale)\n",
    "fd.close()\n",
    "\n",
    "print(\"-----------------------------------------------------\")\n",
    "print('Thanks for your order. Invetory updated')\n",
    "print(\"-----------------------------------------------------\")"
   ]
  },
  {
   "cell_type": "code",
   "execution_count": null,
   "id": "1e52865c",
   "metadata": {},
   "outputs": [],
   "source": []
  },
  {
   "cell_type": "code",
   "execution_count": null,
   "id": "2c87d67f",
   "metadata": {},
   "outputs": [],
   "source": []
  }
 ],
 "metadata": {
  "kernelspec": {
   "display_name": "Python 3 (ipykernel)",
   "language": "python",
   "name": "python3"
  },
  "language_info": {
   "codemirror_mode": {
    "name": "ipython",
    "version": 3
   },
   "file_extension": ".py",
   "mimetype": "text/x-python",
   "name": "python",
   "nbconvert_exporter": "python",
   "pygments_lexer": "ipython3",
   "version": "3.11.5"
  }
 },
 "nbformat": 4,
 "nbformat_minor": 5
}
